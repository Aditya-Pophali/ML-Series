{
 "cells": [
  {
   "cell_type": "markdown",
   "metadata": {
    "collapsed": true
   },
   "source": [
    "# This is a markdown cell\n",
    "\n",
    "You can format text here in markdown.\n",
    "\n",
    "## You can have subheadings\n",
    "\n",
    "- You can have bullet points\n",
    "1. numbered lists\n",
    "\n",
    "$and \\  more$\n",
    "\n",
    "There are lots of markdown resources on the web you can use to learn markdown. <br>\n",
    "Here's a starting point: https://guides.github.com/features/mastering-markdown/ <br>\n",
    "More on Anaconda and Jupyter notebooks, check out this Udacity link: https://classroom.udacity.com/courses/ud1111"
   ]
  },
  {
   "cell_type": "code",
   "execution_count": null,
   "metadata": {
    "collapsed": true
   },
   "outputs": [],
   "source": [
    "#This is a code cell You can run code here. Try running the code cells\n",
    "print('Hello World')\n",
    "a = 2+3"
   ]
  },
  {
   "cell_type": "code",
   "execution_count": null,
   "metadata": {
    "collapsed": true
   },
   "outputs": [],
   "source": [
    "print(a)"
   ]
  }
 ],
 "metadata": {
  "kernelspec": {
   "display_name": "Python 3",
   "language": "python",
   "name": "python3"
  },
  "language_info": {
   "codemirror_mode": {
    "name": "ipython",
    "version": 3
   },
   "file_extension": ".py",
   "mimetype": "text/x-python",
   "name": "python",
   "nbconvert_exporter": "python",
   "pygments_lexer": "ipython3",
   "version": "3.6.1"
  }
 },
 "nbformat": 4,
 "nbformat_minor": 2
}
